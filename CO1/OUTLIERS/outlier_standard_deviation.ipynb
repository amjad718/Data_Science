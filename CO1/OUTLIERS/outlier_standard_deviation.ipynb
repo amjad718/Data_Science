{
 "cells": [
  {
   "cell_type": "code",
   "execution_count": 1,
   "metadata": {},
   "outputs": [
    {
     "name": "stdout",
     "output_type": "stream",
     "text": [
      "Outliers:\n",
      "       Index  Weight(Pounds)\n",
      "249      250        84.35980\n",
      "367      368       168.22900\n",
      "446      447       162.41090\n",
      "727      728        83.08527\n",
      "1332    1333       162.87370\n",
      "...      ...             ...\n",
      "21101  21102        85.98927\n",
      "22282  22283        91.37972\n",
      "22738  22739        87.80417\n",
      "22945  22946        78.01476\n",
      "24610  24611        82.38298\n",
      "\n",
      "[69 rows x 2 columns]\n"
     ]
    }
   ],
   "source": [
    "import pandas as pd\n",
    "\n",
    "# Load the dataset\n",
    "df = pd.read_csv('weightdata.csv')\n",
    "\n",
    "# Specify the column containing weights\n",
    "weight_column = 'Weight(Pounds)'\n",
    "\n",
    "# Calculate the mean and standard deviation of the weight column\n",
    "mean_weight = df[weight_column].mean()\n",
    "std_dev_weight = df[weight_column].std()\n",
    "\n",
    "# Define the z-score threshold for outlier detection (e.g., 3 standard deviations away from the mean)\n",
    "z_score_threshold = 3\n",
    "\n",
    "# Detect outliers using z-score\n",
    "outliers = df[abs((df[weight_column] - mean_weight) / std_dev_weight) > z_score_threshold]\n",
    "\n",
    "# Print the outliers\n",
    "print(\"Outliers:\")\n",
    "print(outliers)\n",
    "\n",
    "# Printing the original dataframe after removing the outliers\n",
    "\n",
    "# df_no_outliers = df[abs((df[weight_column] - mean_weight) / std_dev_weight) <= z_score_threshold]\n",
    "# print(\"DataFrame without outliers:\")\n",
    "# print(df_no_outliers)\n"
   ]
  }
 ],
 "metadata": {
  "kernelspec": {
   "display_name": "base",
   "language": "python",
   "name": "python3"
  },
  "language_info": {
   "codemirror_mode": {
    "name": "ipython",
    "version": 3
   },
   "file_extension": ".py",
   "mimetype": "text/x-python",
   "name": "python",
   "nbconvert_exporter": "python",
   "pygments_lexer": "ipython3",
   "version": "3.11.4"
  }
 },
 "nbformat": 4,
 "nbformat_minor": 2
}
