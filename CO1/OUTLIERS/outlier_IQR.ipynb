{
 "cells": [
  {
   "cell_type": "code",
   "execution_count": 1,
   "metadata": {},
   "outputs": [
    {
     "name": "stdout",
     "output_type": "stream",
     "text": [
      "Outliers:\n",
      "       Index  Weight(Pounds)\n",
      "156      157       158.95620\n",
      "249      250        84.35980\n",
      "293      294        92.74955\n",
      "367      368       168.22900\n",
      "446      447       162.41090\n",
      "...      ...             ...\n",
      "24187  24188       161.85040\n",
      "24610  24611        82.38298\n",
      "24750  24751       159.63440\n",
      "24835  24836        94.40946\n",
      "24889  24890       161.85320\n",
      "\n",
      "[191 rows x 2 columns]\n",
      "DataFrame without outliers:\n",
      "       Index  Weight(Pounds)\n",
      "0          1        112.9925\n",
      "1          2        136.4873\n",
      "2          3        153.0269\n",
      "3          4        142.3354\n",
      "4          5        144.2971\n",
      "...      ...             ...\n",
      "24995  24996        118.0312\n",
      "24996  24997        120.1932\n",
      "24997  24998        118.2655\n",
      "24998  24999        132.2682\n",
      "24999  25000        124.8742\n",
      "\n",
      "[24809 rows x 2 columns]\n"
     ]
    }
   ],
   "source": [
    "import pandas as pd\n",
    "\n",
    "# Load the dataset\n",
    "df = pd.read_csv('weightdata.csv')\n",
    "\n",
    "# Specify the column containing weights\n",
    "weight_column = 'Weight(Pounds)'\n",
    "\n",
    "# Calculate the first quartile (Q1) and third quartile (Q3)\n",
    "Q1 = df[weight_column].quantile(0.25)\n",
    "Q3 = df[weight_column].quantile(0.75)\n",
    "\n",
    "# Calculate the Interquartile Range (IQR)\n",
    "IQR = Q3 - Q1\n",
    "\n",
    "# Define the lower and upper bounds for outliers detection\n",
    "lower_bound = Q1 - 1.5 * IQR\n",
    "upper_bound = Q3 + 1.5 * IQR\n",
    "\n",
    "# Detect outliers\n",
    "outliers = df[(df[weight_column] < lower_bound) | (df[weight_column] > upper_bound)]\n",
    "\n",
    "# Print the outliers\n",
    "print(\"Outliers:\")\n",
    "print(outliers)\n",
    "\n",
    "# Printing the original dataframe after removing the outliers\n",
    "\n",
    "# df_no_outliers = df[(df[weight_column] >= lower_bound) & (df[weight_column] <= upper_bound)]\n",
    "# print(\"DataFrame without outliers:\")\n",
    "# print(df_no_outliers)\n"
   ]
  }
 ],
 "metadata": {
  "kernelspec": {
   "display_name": "base",
   "language": "python",
   "name": "python3"
  },
  "language_info": {
   "codemirror_mode": {
    "name": "ipython",
    "version": 3
   },
   "file_extension": ".py",
   "mimetype": "text/x-python",
   "name": "python",
   "nbconvert_exporter": "python",
   "pygments_lexer": "ipython3",
   "version": "3.11.4"
  }
 },
 "nbformat": 4,
 "nbformat_minor": 2
}
